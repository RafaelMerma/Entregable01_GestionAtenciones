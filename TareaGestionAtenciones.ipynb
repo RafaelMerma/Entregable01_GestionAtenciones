{
 "cells": [
  {
   "cell_type": "markdown",
   "metadata": {},
   "source": [
    "Importacion de librerias y Configuracion"
   ]
  },
  {
   "cell_type": "code",
   "execution_count": 38,
   "metadata": {},
   "outputs": [
    {
     "data": {
      "text/plain": [
       "polars.config.Config"
      ]
     },
     "execution_count": 38,
     "metadata": {},
     "output_type": "execute_result"
    }
   ],
   "source": [
    "import polars as pl\n",
    "from polars import Config\n",
    "Config.set_fmt_str_lengths(100)"
   ]
  },
  {
   "cell_type": "markdown",
   "metadata": {},
   "source": [
    "BASE TICKETS"
   ]
  },
  {
   "cell_type": "code",
   "execution_count": 9,
   "metadata": {},
   "outputs": [],
   "source": [
    "dfTicketsHistorico=pl.read_csv(\n",
    "    source=\"Tickets\\Tickets Historico.txt\",\n",
    "    separator=\";\",\n",
    "    columns=[\"Numero Ticket\",\"Ubicacion\",\"Service Desk\",\"Estado\",\"Fecha Creacion\",\"Fecha Termino\",\"Fecha Cierre\"],\n",
    "    try_parse_dates=True, #Intenta convertir las fechas a yyyy-MM-dd\n",
    "    ignore_errors=True\n",
    ").rename({\"Numero Ticket\": \"TicketID\"})"
   ]
  },
  {
   "cell_type": "code",
   "execution_count": 39,
   "metadata": {},
   "outputs": [],
   "source": [
    "dfTicketsActual=pl.read_csv(\n",
    "    source=\"Tickets\\Tickets Historico.txt\",\n",
    "    separator=\";\",\n",
    "    columns=[\"Numero Ticket\",\"Ubicacion\",\"Service Desk\",\"Estado\",\"Fecha Creacion\",\"Fecha Termino\",\"Fecha Cierre\"],\n",
    "    try_parse_dates=True, #Intenta convertir las fechas a yyyy-MM-dd\n",
    "    ignore_errors=True\n",
    ").rename({\"Numero Ticket\": \"TicketID\"})"
   ]
  },
  {
   "cell_type": "code",
   "execution_count": 40,
   "metadata": {},
   "outputs": [],
   "source": [
    "dfTicketsActual=dfTicketsActual.filter(\n",
    "    pl.col(\"TicketID\").str.starts_with(\"WO\")\n",
    ")"
   ]
  },
  {
   "cell_type": "code",
   "execution_count": 41,
   "metadata": {},
   "outputs": [],
   "source": [
    "dfTicket=pl.concat([dfTicketsHistorico,dfTicketsActual],how=\"vertical\")\n"
   ]
  },
  {
   "cell_type": "code",
   "execution_count": 44,
   "metadata": {},
   "outputs": [],
   "source": [
    "dfTicket = dfTicket.sort(\n",
    "    by=[\"TicketID\",\"Fecha Creacion\"],\n",
    "    descending=[True,True]\n",
    ").unique(\n",
    "    subset=\"TicketID\",\n",
    "    keep=\"last\",\n",
    "    maintain_order=True\n",
    ")"
   ]
  },
  {
   "cell_type": "code",
   "execution_count": 48,
   "metadata": {},
   "outputs": [],
   "source": [
    "dfTicket = dfTicket.with_columns(\n",
    "    pl.col(\"Ubicacion\")\n",
    "    .str.split_exact(\" - \",1)\n",
    "    .struct.rename_fields([\"Agencia\",\"AgenciaID\"]) \n",
    ").unnest(\"Ubicacion\")"
   ]
  },
  {
   "cell_type": "code",
   "execution_count": 49,
   "metadata": {},
   "outputs": [],
   "source": [
    "dfTicket = dfTicket.cast({\"AgenciaID\": pl.Int64})"
   ]
  },
  {
   "cell_type": "code",
   "execution_count": 50,
   "metadata": {},
   "outputs": [],
   "source": [
    "dfTicket=dfTicket.with_columns(\n",
    "    pl.when(pl.col(\"Fecha Termino\").is_null())\n",
    "    .then(pl.col(\"Fecha Cierre\"))\n",
    "    .otherwise(pl.col(\"Fecha Termino\"))\n",
    "    .alias(\"Fecha Real Fin\")\n",
    ")"
   ]
  },
  {
   "cell_type": "code",
   "execution_count": 51,
   "metadata": {},
   "outputs": [],
   "source": [
    "dfTicket=dfTicket.with_columns(\n",
    "    (pl.col(\"Fecha Real Fin\") - pl.col(\"Fecha Creacion\"))\n",
    "    .dt.total_days()\n",
    "    .alias(\"Dias Cierre\")\n",
    ")"
   ]
  },
  {
   "cell_type": "code",
   "execution_count": 61,
   "metadata": {},
   "outputs": [],
   "source": [
    "dfTicket = dfTicket.with_columns(    \n",
    "    pl.when(pl.col(\"Dias Cierre\").is_null()).then(None)\n",
    "    .when(pl.col(\"Dias Cierre\") <= 3).then(pl.lit(\"0 a 3 dias\"))\n",
    "    .when(pl.col(\"Dias Cierre\") <= 7).then(pl.lit(\"4 a 7 dias\"))\n",
    "    .when(pl.col(\"Dias Cierre\") <= 15).then(pl.lit(\"8 a 15 dias\"))    \n",
    "    .otherwise(pl.lit(\"+15 dias\"))\n",
    "    .alias(\"Grupo Dias\")\n",
    ")"
   ]
  },
  {
   "cell_type": "markdown",
   "metadata": {},
   "source": [
    "Resultado esperado"
   ]
  },
  {
   "cell_type": "code",
   "execution_count": 67,
   "metadata": {},
   "outputs": [
    {
     "data": {
      "text/html": [
       "<div><style>\n",
       ".dataframe > thead > tr,\n",
       ".dataframe > tbody > tr {\n",
       "  text-align: right;\n",
       "  white-space: pre-wrap;\n",
       "}\n",
       "</style>\n",
       "<small>shape: (10, 9)</small><table border=\"1\" class=\"dataframe\"><thead><tr><th>TicketID</th><th>Service Desk</th><th>Estado</th><th>Fecha Creacion</th><th>Fecha Real Fin</th><th>Agencia</th><th>AgenciaID</th><th>Dias Cierre</th><th>Grupo Dias</th></tr><tr><td>str</td><td>str</td><td>str</td><td>date</td><td>date</td><td>str</td><td>i64</td><td>i64</td><td>str</td></tr></thead><tbody><tr><td>&quot;WO0000004849732&quot;</td><td>&quot;Zona Centro&quot;</td><td>&quot;Cerrado&quot;</td><td>2022-12-31</td><td>2023-01-06</td><td>&quot;EL PINO&quot;</td><td>191087</td><td>6</td><td>&quot;4 a 7 dias&quot;</td></tr><tr><td>&quot;WO0000004849726&quot;</td><td>&quot;Zona Sur&quot;</td><td>&quot;Cerrado&quot;</td><td>2022-12-31</td><td>2023-01-02</td><td>&quot;LUREN&quot;</td><td>380004</td><td>2</td><td>&quot;0 a 3 dias&quot;</td></tr><tr><td>&quot;WO0000004849721&quot;</td><td>&quot;Zona Sur&quot;</td><td>&quot;Cerrado&quot;</td><td>2022-12-31</td><td>2023-01-02</td><td>&quot;LUREN&quot;</td><td>380004</td><td>2</td><td>&quot;0 a 3 dias&quot;</td></tr><tr><td>&quot;WO0000004849718&quot;</td><td>&quot;Zona Norte&quot;</td><td>&quot;Rechazado&quot;</td><td>2022-12-31</td><td>null</td><td>&quot;AREQUIPA&quot;</td><td>215000</td><td>null</td><td>null</td></tr><tr><td>&quot;WO0000004849382&quot;</td><td>&quot;Zona Sur&quot;</td><td>&quot;Cerrado&quot;</td><td>2022-12-31</td><td>2023-01-04</td><td>&quot;LOS DAMASCOS&quot;</td><td>193038</td><td>4</td><td>&quot;4 a 7 dias&quot;</td></tr><tr><td>&quot;WO0000004849379&quot;</td><td>&quot;Zona Centro&quot;</td><td>&quot;Cerrado&quot;</td><td>2022-12-31</td><td>2023-01-25</td><td>&quot;NAYLAMP&quot;</td><td>191143</td><td>25</td><td>&quot;+15 dias&quot;</td></tr><tr><td>&quot;WO0000004849355&quot;</td><td>&quot;Zona Centro&quot;</td><td>&quot;Cerrado&quot;</td><td>2022-12-31</td><td>2023-01-03</td><td>&quot;VITARTE&quot;</td><td>191043</td><td>3</td><td>&quot;0 a 3 dias&quot;</td></tr><tr><td>&quot;WO0000004849330&quot;</td><td>&quot;Zona Centro&quot;</td><td>&quot;Cerrado&quot;</td><td>2022-12-31</td><td>2023-01-14</td><td>&quot;IMPERIAL&quot;</td><td>255001</td><td>14</td><td>&quot;8 a 15 dias&quot;</td></tr><tr><td>&quot;WO0000004849307&quot;</td><td>&quot;Zona Centro&quot;</td><td>&quot;Rechazado&quot;</td><td>2022-12-31</td><td>null</td><td>&quot;TUSILAGOS&quot;</td><td>191108</td><td>null</td><td>null</td></tr><tr><td>&quot;WO0000004848666&quot;</td><td>&quot;Zona Centro&quot;</td><td>&quot;Cerrado&quot;</td><td>2022-12-31</td><td>2023-01-04</td><td>&quot;QUILCA&quot;</td><td>191160</td><td>4</td><td>&quot;4 a 7 dias&quot;</td></tr></tbody></table></div>"
      ],
      "text/plain": [
       "shape: (10, 9)\n",
       "┌───────────┬───────────┬───────────┬───────────┬───┬───────────┬───────────┬───────────┬──────────┐\n",
       "│ TicketID  ┆ Service   ┆ Estado    ┆ Fecha     ┆ … ┆ Agencia   ┆ AgenciaID ┆ Dias      ┆ Grupo    │\n",
       "│ ---       ┆ Desk      ┆ ---       ┆ Creacion  ┆   ┆ ---       ┆ ---       ┆ Cierre    ┆ Dias     │\n",
       "│ str       ┆ ---       ┆ str       ┆ ---       ┆   ┆ str       ┆ i64       ┆ ---       ┆ ---      │\n",
       "│           ┆ str       ┆           ┆ date      ┆   ┆           ┆           ┆ i64       ┆ str      │\n",
       "╞═══════════╪═══════════╪═══════════╪═══════════╪═══╪═══════════╪═══════════╪═══════════╪══════════╡\n",
       "│ WO0000004 ┆ Zona      ┆ Cerrado   ┆ 2022-12-3 ┆ … ┆ EL PINO   ┆ 191087    ┆ 6         ┆ 4 a 7    │\n",
       "│ 849732    ┆ Centro    ┆           ┆ 1         ┆   ┆           ┆           ┆           ┆ dias     │\n",
       "│ WO0000004 ┆ Zona Sur  ┆ Cerrado   ┆ 2022-12-3 ┆ … ┆ LUREN     ┆ 380004    ┆ 2         ┆ 0 a 3    │\n",
       "│ 849726    ┆           ┆           ┆ 1         ┆   ┆           ┆           ┆           ┆ dias     │\n",
       "│ WO0000004 ┆ Zona Sur  ┆ Cerrado   ┆ 2022-12-3 ┆ … ┆ LUREN     ┆ 380004    ┆ 2         ┆ 0 a 3    │\n",
       "│ 849721    ┆           ┆           ┆ 1         ┆   ┆           ┆           ┆           ┆ dias     │\n",
       "│ WO0000004 ┆ Zona      ┆ Rechazado ┆ 2022-12-3 ┆ … ┆ AREQUIPA  ┆ 215000    ┆ null      ┆ null     │\n",
       "│ 849718    ┆ Norte     ┆           ┆ 1         ┆   ┆           ┆           ┆           ┆          │\n",
       "│ WO0000004 ┆ Zona Sur  ┆ Cerrado   ┆ 2022-12-3 ┆ … ┆ LOS       ┆ 193038    ┆ 4         ┆ 4 a 7    │\n",
       "│ 849382    ┆           ┆           ┆ 1         ┆   ┆ DAMASCOS  ┆           ┆           ┆ dias     │\n",
       "│ WO0000004 ┆ Zona      ┆ Cerrado   ┆ 2022-12-3 ┆ … ┆ NAYLAMP   ┆ 191143    ┆ 25        ┆ +15 dias │\n",
       "│ 849379    ┆ Centro    ┆           ┆ 1         ┆   ┆           ┆           ┆           ┆          │\n",
       "│ WO0000004 ┆ Zona      ┆ Cerrado   ┆ 2022-12-3 ┆ … ┆ VITARTE   ┆ 191043    ┆ 3         ┆ 0 a 3    │\n",
       "│ 849355    ┆ Centro    ┆           ┆ 1         ┆   ┆           ┆           ┆           ┆ dias     │\n",
       "│ WO0000004 ┆ Zona      ┆ Cerrado   ┆ 2022-12-3 ┆ … ┆ IMPERIAL  ┆ 255001    ┆ 14        ┆ 8 a 15   │\n",
       "│ 849330    ┆ Centro    ┆           ┆ 1         ┆   ┆           ┆           ┆           ┆ dias     │\n",
       "│ WO0000004 ┆ Zona      ┆ Rechazado ┆ 2022-12-3 ┆ … ┆ TUSILAGOS ┆ 191108    ┆ null      ┆ null     │\n",
       "│ 849307    ┆ Centro    ┆           ┆ 1         ┆   ┆           ┆           ┆           ┆          │\n",
       "│ WO0000004 ┆ Zona      ┆ Cerrado   ┆ 2022-12-3 ┆ … ┆ QUILCA    ┆ 191160    ┆ 4         ┆ 4 a 7    │\n",
       "│ 848666    ┆ Centro    ┆           ┆ 1         ┆   ┆           ┆           ┆           ┆ dias     │\n",
       "└───────────┴───────────┴───────────┴───────────┴───┴───────────┴───────────┴───────────┴──────────┘"
      ]
     },
     "execution_count": 67,
     "metadata": {},
     "output_type": "execute_result"
    }
   ],
   "source": [
    "dfTicket.select(\n",
    "    pl.col(\"TicketID\"),\n",
    "    pl.col(\"Service Desk\"),\n",
    "    pl.col(\"Estado\"),\n",
    "    pl.col(\"Fecha Creacion\"),\n",
    "    pl.col(\"Fecha Real Fin\"),\n",
    "    pl.col(\"Agencia\"),\n",
    "    pl.col(\"AgenciaID\"),\n",
    "    pl.col(\"Dias Cierre\"),\n",
    "    pl.col(\"Grupo Dias\")\n",
    ").head(10)"
   ]
  },
  {
   "cell_type": "markdown",
   "metadata": {},
   "source": [
    "BASE ATENCIONES"
   ]
  },
  {
   "cell_type": "code",
   "execution_count": 72,
   "metadata": {},
   "outputs": [
    {
     "data": {
      "text/plain": [
       "[WindowsPath('Atenciones/Atenciones Centro.xlsx'),\n",
       " WindowsPath('Atenciones/Atenciones Norte.xlsx'),\n",
       " WindowsPath('Atenciones/Atenciones Sur.xlsx')]"
      ]
     },
     "execution_count": 72,
     "metadata": {},
     "output_type": "execute_result"
    }
   ],
   "source": [
    "#Leer los archivos que estan dentro de una carpeta\n",
    "from pathlib import Path\n",
    "rutaCarpeta = Path(\"Atenciones/\")\n",
    "archivosExcel=list(rutaCarpeta.glob(\"Atenciones*xlsx\"))\n",
    "archivosExcel"
   ]
  },
  {
   "cell_type": "code",
   "execution_count": 79,
   "metadata": {},
   "outputs": [
    {
     "name": "stderr",
     "output_type": "stream",
     "text": [
      "C:\\Users\\Usuario\\AppData\\Local\\Temp\\ipykernel_3908\\2290268327.py:5: DeprecationWarning: `the argument read_csv_options` for `read_excel` is deprecated. It has been renamed to `read_options`.\n",
      "  aux_DF = pl.read_excel(\n"
     ]
    }
   ],
   "source": [
    "dfAtenciones = pl.DataFrame()\n",
    "\n",
    "for rutaarchivo in archivosExcel:\n",
    "    archivo= str(rutaarchivo).split(\"\\\\\")[1]\n",
    "    aux_DF = pl.read_excel(\n",
    "        source=\"Atenciones/\"+archivo,\n",
    "        sheet_name=\"Hoja1\",\n",
    "        engine=\"xlsx2csv\",\n",
    "        read_csv_options={\n",
    "            \"columns\":[\"Numero Ticket\",\"Tipo de Ticket\",\"Proveedor\",\"Costo Atencion\"],\n",
    "            \"infer_schema_length\":0\n",
    "            }\n",
    "    ).rename({\"Numero Ticket\": \"TicketID\"})\n",
    "    aux_DF = aux_DF.with_columns(pl.lit(archivo).alias(\"Nombre Archivo\"))\n",
    "    dfAtenciones = pl.concat([dfAtenciones,aux_DF],how=\"vertical\")"
   ]
  },
  {
   "cell_type": "code",
   "execution_count": 85,
   "metadata": {},
   "outputs": [],
   "source": [
    "dfAtenciones = dfAtenciones.select(\n",
    "    pl.col(\"TicketID\"),\n",
    "    pl.col(\"Tipo de Ticket\"),\n",
    "    pl.col(\"Proveedor\"),\n",
    "    pl.col(\"Costo Atencion\").str.strip_chars()\n",
    "    .str.to_uppercase()\n",
    "    .str.replace_many([\"COSTO CERO\",\"SIN COSTO\"],\"0\")\n",
    ")"
   ]
  },
  {
   "cell_type": "code",
   "execution_count": 93,
   "metadata": {},
   "outputs": [],
   "source": [
    "def texto_a_decimal(valor):\n",
    "    try:\n",
    "        return round(float(valor),2)\n",
    "    except:\n",
    "        return None"
   ]
  },
  {
   "cell_type": "code",
   "execution_count": 95,
   "metadata": {},
   "outputs": [],
   "source": [
    "dfAtenciones = dfAtenciones.select(\n",
    "    pl.col(\"TicketID\"),\n",
    "    pl.col(\"Tipo de Ticket\"),\n",
    "    pl.col(\"Proveedor\"),\n",
    "    pl.col(\"Costo Atencion\").map_elements(texto_a_decimal)\n",
    ")"
   ]
  },
  {
   "cell_type": "markdown",
   "metadata": {},
   "source": [
    "Resultado Esperado"
   ]
  },
  {
   "cell_type": "code",
   "execution_count": 99,
   "metadata": {},
   "outputs": [
    {
     "data": {
      "text/html": [
       "<div><style>\n",
       ".dataframe > thead > tr,\n",
       ".dataframe > tbody > tr {\n",
       "  text-align: right;\n",
       "  white-space: pre-wrap;\n",
       "}\n",
       "</style>\n",
       "<small>shape: (10, 4)</small><table border=\"1\" class=\"dataframe\"><thead><tr><th>TicketID</th><th>Tipo de Ticket</th><th>Proveedor</th><th>Costo Atencion</th></tr><tr><td>str</td><td>str</td><td>str</td><td>f64</td></tr></thead><tbody><tr><td>&quot;WO0000005584689&quot;</td><td>&quot;Variable&quot;</td><td>&quot;MR EXPRESS&quot;</td><td>null</td></tr><tr><td>&quot;WO0000004544943&quot;</td><td>&quot;Rechazado&quot;</td><td>null</td><td>100.0</td></tr><tr><td>&quot;WO0000004545246&quot;</td><td>&quot;Rechazado&quot;</td><td>null</td><td>100.0</td></tr><tr><td>&quot;WO0000004559125&quot;</td><td>&quot;Rechazado&quot;</td><td>null</td><td>100.0</td></tr><tr><td>&quot;WO0000004707477&quot;</td><td>&quot;Rechazado&quot;</td><td>null</td><td>100.0</td></tr><tr><td>&quot;WO0000004759976&quot;</td><td>&quot;Rechazado&quot;</td><td>null</td><td>100.0</td></tr><tr><td>&quot;WO0000004795876&quot;</td><td>&quot;Rechazado&quot;</td><td>null</td><td>100.0</td></tr><tr><td>&quot;WO0000004825300&quot;</td><td>&quot;Rechazado&quot;</td><td>null</td><td>100.0</td></tr><tr><td>&quot;WO0000004853680&quot;</td><td>&quot;Flat&quot;</td><td>&quot;ACCENTURE&quot;</td><td>100.0</td></tr><tr><td>&quot;WO0000004925389&quot;</td><td>&quot;Flat&quot;</td><td>&quot;ACCENTURE&quot;</td><td>100.0</td></tr></tbody></table></div>"
      ],
      "text/plain": [
       "shape: (10, 4)\n",
       "┌─────────────────┬────────────────┬────────────┬────────────────┐\n",
       "│ TicketID        ┆ Tipo de Ticket ┆ Proveedor  ┆ Costo Atencion │\n",
       "│ ---             ┆ ---            ┆ ---        ┆ ---            │\n",
       "│ str             ┆ str            ┆ str        ┆ f64            │\n",
       "╞═════════════════╪════════════════╪════════════╪════════════════╡\n",
       "│ WO0000005584689 ┆ Variable       ┆ MR EXPRESS ┆ null           │\n",
       "│ WO0000004544943 ┆ Rechazado      ┆ null       ┆ 100.0          │\n",
       "│ WO0000004545246 ┆ Rechazado      ┆ null       ┆ 100.0          │\n",
       "│ WO0000004559125 ┆ Rechazado      ┆ null       ┆ 100.0          │\n",
       "│ WO0000004707477 ┆ Rechazado      ┆ null       ┆ 100.0          │\n",
       "│ WO0000004759976 ┆ Rechazado      ┆ null       ┆ 100.0          │\n",
       "│ WO0000004795876 ┆ Rechazado      ┆ null       ┆ 100.0          │\n",
       "│ WO0000004825300 ┆ Rechazado      ┆ null       ┆ 100.0          │\n",
       "│ WO0000004853680 ┆ Flat           ┆ ACCENTURE  ┆ 100.0          │\n",
       "│ WO0000004925389 ┆ Flat           ┆ ACCENTURE  ┆ 100.0          │\n",
       "└─────────────────┴────────────────┴────────────┴────────────────┘"
      ]
     },
     "execution_count": 99,
     "metadata": {},
     "output_type": "execute_result"
    }
   ],
   "source": [
    "dfAtenciones.head(10)"
   ]
  },
  {
   "cell_type": "markdown",
   "metadata": {},
   "source": [
    "COMBINAR Y EXPORTAR"
   ]
  },
  {
   "cell_type": "code",
   "execution_count": 105,
   "metadata": {},
   "outputs": [],
   "source": [
    "dfTicketAtenciones = dfTicket.join(\n",
    "    dfAtenciones,\n",
    "    on = \"TicketID\",\n",
    "    how= \"inner\"\n",
    ").select(\n",
    "    \"TicketID\",\n",
    "    \"AgenciaID\",\n",
    "    \"Agencia\",\n",
    "    \"Service Desk\",\n",
    "    \"Estado\",\n",
    "    \"Fecha Creacion\",\n",
    "    \"Fecha Real Fin\",\n",
    "    \"Grupo Dias\",\n",
    "    \"Tipo de Ticket\",\n",
    "    \"Costo Atencion\"\n",
    ").rename({\"Fecha Real Fin\":\"Fecha Cierre\",\"Tipo de Ticket\":\"Tipo Ticket\",\"Costo Atencion\":\"Costo\"})"
   ]
  },
  {
   "cell_type": "code",
   "execution_count": 107,
   "metadata": {},
   "outputs": [
    {
     "data": {
      "text/plain": [
       "<xlsxwriter.workbook.Workbook at 0x1e2e52171f0>"
      ]
     },
     "execution_count": 107,
     "metadata": {},
     "output_type": "execute_result"
    }
   ],
   "source": [
    "#Exportando a un excel\n",
    "dfTicketAtenciones.write_excel(\n",
    "    workbook=\"Consolidado.xlsx\",\n",
    "    worksheet=\"Atenciones\",\n",
    "    table_style=\"Table Style Light 2\",\n",
    "    dtype_formats={pl.Date: \"dd/mm/yyyy\"},\n",
    "    float_precision=2,\n",
    "    autofit=True\n",
    ")"
   ]
  },
  {
   "cell_type": "code",
   "execution_count": null,
   "metadata": {},
   "outputs": [],
   "source": []
  }
 ],
 "metadata": {
  "kernelspec": {
   "display_name": "Python 3",
   "language": "python",
   "name": "python3"
  },
  "language_info": {
   "codemirror_mode": {
    "name": "ipython",
    "version": 3
   },
   "file_extension": ".py",
   "mimetype": "text/x-python",
   "name": "python",
   "nbconvert_exporter": "python",
   "pygments_lexer": "ipython3",
   "version": "3.9.12"
  }
 },
 "nbformat": 4,
 "nbformat_minor": 2
}
